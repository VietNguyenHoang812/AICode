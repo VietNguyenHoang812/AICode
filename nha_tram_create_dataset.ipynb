{
 "cells": [
  {
   "cell_type": "code",
   "execution_count": 11,
   "metadata": {},
   "outputs": [],
   "source": [
    "import torch\n",
    "import torchvision\n",
    "import matplotlib.pyplot as plt\n",
    "import os\n",
    "import numpy as np\n",
    "import time\n",
    "import shutil\n",
    "from os.path import join\n",
    "from torch import nn\n",
    "from torch import optim\n",
    "from torch.utils.data import Dataset, DataLoader, ConcatDataset\n",
    "from torchvision import transforms\n",
    "from torchvision import models\n",
    "from PIL import Image"
   ]
  },
  {
   "cell_type": "code",
   "execution_count": 3,
   "metadata": {
    "scrolled": false
   },
   "outputs": [],
   "source": [
    "#train_path = '/home/vietnh41-vtnet-u/Documents/Project/dogs_vs_cats/train/'\n",
    "#test_path = '/home/vietnh41-vtnet-u/Documents/Project/dogs_vs_cats/test1/'\n",
    "\n",
    "ori_path = '/Disk01/personal_folders/haint126/dataset/cleaned_classifier_v4/old_cleaned_classifier'\n",
    "ldir = os.listdir(ori_path)\n",
    "nha_tram_dict = []\n",
    "for class_name in ldir:\n",
    "    nha_tram_dict.append((class_name, len(os.listdir(join(ori_path, class_name)))))"
   ]
  },
  {
   "cell_type": "code",
   "execution_count": 8,
   "metadata": {},
   "outputs": [
    {
     "data": {
      "text/plain": [
       "[('mong_cot_vuong', 4570),\n",
       " ('mat_truoc_nha_tram', 3590),\n",
       " ('mong_co', 2596),\n",
       " ('dinh_cot_vuong', 2373),\n",
       " ('mat_truoc_nha_may_no', 1326),\n",
       " ('ac_v5_mo', 1292),\n",
       " ('rack_19', 1262),\n",
       " ('mong_cot_tron', 923),\n",
       " ('ac_v5_1_pha_dong', 651),\n",
       " ('dc_emerson_mo', 638)]"
      ]
     },
     "execution_count": 8,
     "metadata": {},
     "output_type": "execute_result"
    }
   ],
   "source": [
    "sorted(nha_tram_dict, key=lambda length: length[1], reverse=True)[:10]"
   ]
  },
  {
   "cell_type": "code",
   "execution_count": 9,
   "metadata": {},
   "outputs": [
    {
     "data": {
      "text/plain": [
       "['mong_cot_vuong',\n",
       " 'mat_truoc_nha_tram',\n",
       " 'mong_co',\n",
       " 'dinh_cot_vuong',\n",
       " 'mat_truoc_nha_may_no',\n",
       " 'ac_v5_mo',\n",
       " 'rack_19',\n",
       " 'mong_cot_tron',\n",
       " 'ac_v5_1_pha_dong',\n",
       " 'dc_emerson_mo']"
      ]
     },
     "execution_count": 9,
     "metadata": {},
     "output_type": "execute_result"
    }
   ],
   "source": [
    "top10_path_tuple = sorted(nha_tram_dict, key=lambda length: length[1], reverse=True)[:10]\n",
    "top10_name = []\n",
    "top10_path = []\n",
    "for path in top10_path_tuple:\n",
    "    top10_name.append(path[0])\n",
    "for i in range(len(top10_name)):\n",
    "    top10_path.append(ori_path + '/' + top10_name[i])\n",
    "top10_name"
   ]
  },
  {
   "cell_type": "code",
   "execution_count": 12,
   "metadata": {},
   "outputs": [
    {
     "data": {
      "text/plain": [
       "['/Disk01/personal_folders/haint126/dataset/cleaned_classifier_v4/old_cleaned_classifier/mong_cot_vuong',\n",
       " '/Disk01/personal_folders/haint126/dataset/cleaned_classifier_v4/old_cleaned_classifier/mat_truoc_nha_tram',\n",
       " '/Disk01/personal_folders/haint126/dataset/cleaned_classifier_v4/old_cleaned_classifier/mong_co',\n",
       " '/Disk01/personal_folders/haint126/dataset/cleaned_classifier_v4/old_cleaned_classifier/dinh_cot_vuong',\n",
       " '/Disk01/personal_folders/haint126/dataset/cleaned_classifier_v4/old_cleaned_classifier/mat_truoc_nha_may_no',\n",
       " '/Disk01/personal_folders/haint126/dataset/cleaned_classifier_v4/old_cleaned_classifier/ac_v5_mo',\n",
       " '/Disk01/personal_folders/haint126/dataset/cleaned_classifier_v4/old_cleaned_classifier/rack_19',\n",
       " '/Disk01/personal_folders/haint126/dataset/cleaned_classifier_v4/old_cleaned_classifier/mong_cot_tron',\n",
       " '/Disk01/personal_folders/haint126/dataset/cleaned_classifier_v4/old_cleaned_classifier/ac_v5_1_pha_dong',\n",
       " '/Disk01/personal_folders/haint126/dataset/cleaned_classifier_v4/old_cleaned_classifier/dc_emerson_mo']"
      ]
     },
     "execution_count": 12,
     "metadata": {},
     "output_type": "execute_result"
    }
   ],
   "source": [
    "top10_path"
   ]
  },
  {
   "cell_type": "code",
   "execution_count": 13,
   "metadata": {},
   "outputs": [],
   "source": [
    "mong_cot_vuong_path = os.listdir(top10_path[0])\n",
    "mt_nha_tram_path = os.listdir(top10_path[1])\n",
    "mong_co_path = os.listdir(top10_path[2])\n",
    "dinh_cot_vuong_path = os.listdir(top10_path[3])\n",
    "mt_nha_may_no_path = os.listdir(top10_path[4])\n",
    "ac_v5_mo_path = os.listdir(top10_path[5])\n",
    "rack_19_path = os.listdir(top10_path[6])\n",
    "mong_cot_tron_path = os.listdir(top10_path[7])\n",
    "ac_v5_1_pha_dong_path = os.listdir(top10_path[8])\n",
    "dc_emerson_mo_path = os.listdir(top10_path[9])"
   ]
  },
  {
   "cell_type": "code",
   "execution_count": 14,
   "metadata": {},
   "outputs": [
    {
     "data": {
      "text/plain": [
       "2596"
      ]
     },
     "execution_count": 14,
     "metadata": {},
     "output_type": "execute_result"
    }
   ],
   "source": [
    "len(mong_co_path)"
   ]
  },
  {
   "cell_type": "code",
   "execution_count": 10,
   "metadata": {},
   "outputs": [
    {
     "name": "stdout",
     "output_type": "stream",
     "text": [
      "mong_cot_vuong\n"
     ]
    }
   ],
   "source": [
    "train_path = '/home/sohoa1/vietnh41/nha_tram_classify/train'\n",
    "val_path = '/home/sohoa1/vietnh41/nha_tram_classify/val'\n",
    "print(top10_name[0])\n"
   ]
  },
  {
   "cell_type": "code",
   "execution_count": 17,
   "metadata": {},
   "outputs": [],
   "source": [
    "if not os.path.isdir(train_path):\n",
    "    os.mkdir(train_path)\n",
    "mcv_path = train_path + '/' + top10_name[0]\n",
    "mtnt_path = train_path + '/' + top10_name[1]\n",
    "mc_path = train_path + '/' + top10_name[2]\n",
    "dcv_path = train_path + '/' + top10_name[3]"
   ]
  },
  {
   "cell_type": "code",
   "execution_count": 15,
   "metadata": {},
   "outputs": [
    {
     "name": "stdout",
     "output_type": "stream",
     "text": [
      "_cot_vuong\n"
     ]
    }
   ],
   "source": [
    "print(top10_path[0][-10:])"
   ]
  },
  {
   "cell_type": "code",
   "execution_count": 18,
   "metadata": {},
   "outputs": [],
   "source": [
    "num_train = 1800"
   ]
  },
  {
   "cell_type": "code",
   "execution_count": 27,
   "metadata": {},
   "outputs": [],
   "source": [
    "if not os.path.isdir(mcv_path):\n",
    "    os.mkdir(mcv_path)\n",
    "    for i in range(num_train):\n",
    "        img_path = top10_path[0] + '/' + mong_cot_vuong_path[i]\n",
    "        shutil.copy(img_path, mcv_path)"
   ]
  },
  {
   "cell_type": "code",
   "execution_count": 29,
   "metadata": {},
   "outputs": [],
   "source": [
    "if not os.path.isdir(mtnt_path):\n",
    "    os.mkdir(mtnt_path)\n",
    "    for i in range(num_train):\n",
    "        img_path = top10_path[1] + '/' + mt_nha_tram_path[i]\n",
    "        shutil.copy(img_path, mtnt_path)"
   ]
  },
  {
   "cell_type": "code",
   "execution_count": 30,
   "metadata": {},
   "outputs": [],
   "source": [
    "if not os.path.isdir(mc_path):\n",
    "    os.mkdir(mc_path)\n",
    "    for i in range(num_train):\n",
    "        img_path = top10_path[2] + '/' + mong_co_path[i]\n",
    "        shutil.copy(img_path, mc_path)"
   ]
  },
  {
   "cell_type": "code",
   "execution_count": 31,
   "metadata": {},
   "outputs": [],
   "source": [
    "if not os.path.isdir(dcv_path):\n",
    "    os.mkdir(dcv_path)\n",
    "    for i in range(num_train):\n",
    "        img_path = top10_path[3] + '/' + dinh_cot_vuong_path[i]\n",
    "        shutil.copy(img_path, dcv_path)"
   ]
  }
 ],
 "metadata": {
  "interpreter": {
   "hash": "f334bbcaa6bdb48d70135648f049145f5926302d092f925276dd397488857767"
  },
  "kernelspec": {
   "display_name": "vietnh41",
   "language": "python",
   "name": "vietnh41"
  },
  "language_info": {
   "codemirror_mode": {
    "name": "ipython",
    "version": 3
   },
   "file_extension": ".py",
   "mimetype": "text/x-python",
   "name": "python",
   "nbconvert_exporter": "python",
   "pygments_lexer": "ipython3",
   "version": "3.8.12"
  }
 },
 "nbformat": 4,
 "nbformat_minor": 2
}
